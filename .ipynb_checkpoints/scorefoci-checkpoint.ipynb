{
 "cells": [
  {
   "cell_type": "code",
   "execution_count": 1,
   "metadata": {
    "collapsed": true
   },
   "outputs": [],
   "source": [
    "using Images, FileIO, Py"
   ]
  },
  {
   "cell_type": "code",
   "execution_count": 3,
   "metadata": {},
   "outputs": [
    {
     "data": {
      "text/plain": [
       "plotstack (generic function with 1 method)"
      ]
     },
     "execution_count": 3,
     "metadata": {},
     "output_type": "execute_result"
    }
   ],
   "source": [
    "function plotstack(img)\n",
    "    fig = figure(\"pyplot_subplot_mixed\",figsize=(18, 10)) # Create a new blank figure\n",
    "    subplot(171); PyPlot.imshow(img[:, :, 1]); # Create the 1st axis of a 1x2 arrax of axes\n",
    "    title(\"1\")\n",
    "\n",
    "    subplot(172); PyPlot.imshow(img[:, :, 2]);\n",
    "    title(\"2\")\n",
    "\n",
    "    subplot(173); PyPlot.imshow(img[:, :, 3]);\n",
    "    title(\"3\")\n",
    "\n",
    "    subplot(174); PyPlot.imshow(img[:, :, 4]);\n",
    "    title(\"4\")\n",
    "\n",
    "    subplot(175); PyPlot.imshow(img[:, :, 5]);\n",
    "    title(\"5\")\n",
    "\n",
    "    subplot(176); PyPlot.imshow(img[:, :, 6]);\n",
    "    title(\"6\")\n",
    "\n",
    "    subplot(177); PyPlot.imshow(img[:, :, 7]);\n",
    "    title(\"7\")\n",
    "end"
   ]
  },
  {
   "cell_type": "code",
   "execution_count": 4,
   "metadata": {},
   "outputs": [
    {
     "ename": "LoadError",
     "evalue": "\u001b[91mUndefVarError: figure not defined\u001b[39m",
     "output_type": "error",
     "traceback": [
      "\u001b[91mUndefVarError: figure not defined\u001b[39m",
      "",
      "Stacktrace:",
      " [1] \u001b[1mplotstack\u001b[22m\u001b[22m\u001b[1m(\u001b[22m\u001b[22m::Array{ColorTypes.Gray{FixedPointNumbers.Normed{UInt16,16}},3}\u001b[1m)\u001b[22m\u001b[22m at \u001b[1m./In[3]:2\u001b[22m\u001b[22m",
      " [2] \u001b[1minclude_string\u001b[22m\u001b[22m\u001b[1m(\u001b[22m\u001b[22m::String, ::String\u001b[1m)\u001b[22m\u001b[22m at \u001b[1m./loading.jl:515\u001b[22m\u001b[22m"
     ]
    }
   ],
   "source": [
    "img = load(\"GFP_001.tif\")\n",
    "plotstack(img)"
   ]
  },
  {
   "cell_type": "code",
   "execution_count": null,
   "metadata": {
    "collapsed": true
   },
   "outputs": [],
   "source": []
  }
 ],
 "metadata": {
  "kernelspec": {
   "display_name": "Julia 0.6.0",
   "language": "julia",
   "name": "julia-0.6"
  },
  "language_info": {
   "file_extension": ".jl",
   "mimetype": "application/julia",
   "name": "julia",
   "version": "0.6.0"
  }
 },
 "nbformat": 4,
 "nbformat_minor": 2
}
